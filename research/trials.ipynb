{
 "cells": [
  {
   "cell_type": "code",
   "execution_count": null,
   "metadata": {},
   "outputs": [],
   "source": [
    "import sys\n",
    "print(f'Python version: {sys.version}')\n",
    "import os\n",
    "print(f'Current working directory: {os.getcwd()}')\n",
    "import pkg_resources\n",
    "installed_packages = {pkg.key for pkg in pkg_resources.working_set}\n",
    "required_packages = {'numpy', 'pandas', 'tensorflow', 'keras'}\n",
    "missing_packages = required_packages - installed_packages\n",
    "if missing_packages:\n",
    "    print(f'Missing packages: {missing_packages}')\n",
    "else:\n",
    "    print('All required packages are installed.')"
   ]
  },
  {
   "cell_type": "code",
   "execution_count": null,
   "metadata": {},
   "outputs": [],
   "source": [
    "# Check for any error messages in the notebook\n",
    "# If there are errors, print them out\n",
    "import traceback\n",
    "try:\n",
    "    pass\n",
    "except Exception as e:\n",
    "    print('An error occurred:')\n",
    "    traceback.print_exc()"
   ]
  }
 ]
}
